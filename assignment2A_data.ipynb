{
 "cells": [
  {
   "cell_type": "markdown",
   "metadata": {},
   "source": [
    "# Assignment 2A\n",
    "\n",
    "Following code is used to gather crime data related to prostitution and vehicle theft from the San Francisco Police Department. [Link to data](http://data.sfgov.org/api/views/tmnf-yvry/rows.csv?accessType=DOWNLOAD&api_foundry=true).\n",
    "\n",
    "The data gathered:\n",
    "* Number of prostitution crimes for the years 2003 and 2015\n",
    "* Number of vehicle thefts for the years 2003 and 2015"
   ]
  },
  {
   "cell_type": "code",
   "execution_count": 1,
   "metadata": {
    "collapsed": true
   },
   "outputs": [],
   "source": [
    "import csv\n",
    "from collections import defaultdict\n",
    "from collections import Counter\n",
    "import operator"
   ]
  },
  {
   "cell_type": "code",
   "execution_count": 2,
   "metadata": {
    "collapsed": true
   },
   "outputs": [],
   "source": [
    "# Read-in San Francisco crime data from 1st of January 2003\n",
    "crimes = {}\n",
    "\n",
    "with open('SFPD_Incidents_-_from_1_January_2003.csv') as csvfile:\n",
    "    reader = csv.DictReader(csvfile, delimiter=\",\")\n",
    "    for entry in reader:\n",
    "        crimes[\n",
    "            entry[\"IncidntNum\"]\n",
    "        ] = {\n",
    "        \"category\":     entry[\"Category\"],\n",
    "        \"date\":         entry[\"Date\"],\n",
    "        \"time\":         entry[\"Time\"],\n",
    "        \"district\":     entry[\"PdDistrict\"],\n",
    "        \"latitude\":     entry[\"Y\"],\n",
    "        \"longitude\":    entry[\"X\"]\n",
    "        }"
   ]
  },
  {
   "cell_type": "code",
   "execution_count": 3,
   "metadata": {
    "collapsed": false
   },
   "outputs": [],
   "source": [
    "# Function for getting crimes in district based on crime category and year\n",
    "def districts_crimes(crime_category, crime_year):\n",
    "    distr_crimes = defaultdict(list)\n",
    "    for key, value in crimes.iteritems():\n",
    "        year = int(crimes[key][\"date\"].split(\"/\")[-1])\n",
    "        if (crimes[key][\"category\"] == crime_category) and (year == crime_year):\n",
    "            distr_crimes[crimes[key][\"district\"]].append(crimes[key][\"category\"])\n",
    "            \n",
    "    distr_crimes_total = []\n",
    "    for key, value in distr_crimes.iteritems():\n",
    "        distr_crimes_total.append([key, len(value)])\n",
    "    \n",
    "    return sorted(distr_crimes_total)"
   ]
  },
  {
   "cell_type": "code",
   "execution_count": 4,
   "metadata": {
    "collapsed": false
   },
   "outputs": [],
   "source": [
    "# Get total crimes based on crime category and year\n",
    "prost_2003 = districts_crimes(\"PROSTITUTION\", 2003)\n",
    "prost_2015 = districts_crimes(\"PROSTITUTION\", 2015)\n",
    "vt_2003 = districts_crimes(\"VEHICLE THEFT\", 2003)\n",
    "vt_2015 = districts_crimes(\"VEHICLE THEFT\", 2015)"
   ]
  },
  {
   "cell_type": "code",
   "execution_count": 5,
   "metadata": {
    "collapsed": false
   },
   "outputs": [
    {
     "name": "stdout",
     "output_type": "stream",
     "text": [
      "10\n",
      "[['BAYVIEW', 4], ['CENTRAL', 53], ['INGLESIDE', 4], ['MISSION', 506], ['NORTHERN', 382], ['PARK', 1], ['RICHMOND', 9], ['SOUTHERN', 13], ['TARAVAL', 6], ['TENDERLOIN', 310]]\n",
      "--------\n",
      "9\n",
      "[['BAYVIEW', 1], ['CENTRAL', 15], ['INGLESIDE', 1], ['MISSION', 15], ['NORTHERN', 18], ['RICHMOND', 1], ['SOUTHERN', 49], ['TARAVAL', 40], ['TENDERLOIN', 15]]\n",
      "--------\n",
      "10\n",
      "[['BAYVIEW', 1270], ['CENTRAL', 652], ['INGLESIDE', 1312], ['MISSION', 1129], ['NORTHERN', 1017], ['PARK', 653], ['RICHMOND', 596], ['SOUTHERN', 799], ['TARAVAL', 943], ['TENDERLOIN', 206]]\n",
      "--------\n",
      "10\n",
      "[['BAYVIEW', 870], ['CENTRAL', 489], ['INGLESIDE', 1221], ['MISSION', 1078], ['NORTHERN', 813], ['PARK', 579], ['RICHMOND', 501], ['SOUTHERN', 686], ['TARAVAL', 719], ['TENDERLOIN', 89]]\n"
     ]
    }
   ],
   "source": [
    "print len(prost_2003)\n",
    "print prost_2003\n",
    "print \"--------\"\n",
    "print len(prost_2015)\n",
    "print prost_2015\n",
    "print \"--------\"\n",
    "print len(vt_2003)\n",
    "print vt_2003\n",
    "print \"--------\"\n",
    "print len(vt_2015)\n",
    "print vt_2015"
   ]
  },
  {
   "cell_type": "code",
   "execution_count": 6,
   "metadata": {
    "collapsed": false
   },
   "outputs": [
    {
     "name": "stdout",
     "output_type": "stream",
     "text": [
      "10\n",
      "[['BAYVIEW', 1], ['CENTRAL', 15], ['INGLESIDE', 1], ['MISSION', 15], ['NORTHERN', 18], ['PARK', 0], ['RICHMOND', 1], ['SOUTHERN', 49], ['TARAVAL', 40], ['TENDERLOIN', 15]]\n"
     ]
    }
   ],
   "source": [
    "# There is no instance of prostitution in PARK for the year 2015\n",
    "# Add PARK to the list and the value 0\n",
    "prost_2015.append([\"PARK\", 0])\n",
    "\n",
    "# Sort the list\n",
    "prost_2015_updated = sorted(prost_2015)\n",
    "\n",
    "print len(prost_2015_updated)\n",
    "print prost_2015_updated"
   ]
  },
  {
   "cell_type": "code",
   "execution_count": 7,
   "metadata": {
    "collapsed": true
   },
   "outputs": [],
   "source": [
    "# Function for writing to a csv-file\n",
    "def write_to_csv(category_a, category_b, year):\n",
    "    category_a_distr, category_a_num = zip(*category_a)\n",
    "    category_b_distr, category_b_num = zip(*category_b)\n",
    "    \n",
    "    with open(\"./data_2A/distr_prost_vt_count_\" + year + \".csv\", \"wb\") as f:\n",
    "        writer = csv.writer(f)\n",
    "        writer.writerow((\"district\", \"prostitution\", \"vehicle_theft\"))\n",
    "        writer.writerows(zip(category_a_distr, category_a_num, category_b_num))"
   ]
  },
  {
   "cell_type": "code",
   "execution_count": 8,
   "metadata": {
    "collapsed": true
   },
   "outputs": [],
   "source": [
    "# Create csv-files for both 2003 and 2015\n",
    "write_to_csv(prost_2003, vt_2003, \"2003\")\n",
    "write_to_csv(prost_2015_updated, vt_2015, \"2015\")"
   ]
  }
 ],
 "metadata": {
  "anaconda-cloud": {},
  "kernelspec": {
   "display_name": "Python [Root]",
   "language": "python",
   "name": "Python [Root]"
  },
  "language_info": {
   "codemirror_mode": {
    "name": "ipython",
    "version": 2
   },
   "file_extension": ".py",
   "mimetype": "text/x-python",
   "name": "python",
   "nbconvert_exporter": "python",
   "pygments_lexer": "ipython2",
   "version": "2.7.12"
  }
 },
 "nbformat": 4,
 "nbformat_minor": 0
}
