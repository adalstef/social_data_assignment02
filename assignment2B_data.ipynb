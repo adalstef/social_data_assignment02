{
 "cells": [
  {
   "cell_type": "markdown",
   "metadata": {},
   "source": [
    "# Assignment 2B\n",
    "\n",
    "Following code is used to gather crime data related to prostitution from the San Francisco Police Department. [Link to data](http://data.sfgov.org/api/views/tmnf-yvry/rows.csv?accessType=DOWNLOAD&api_foundry=true).\n",
    "\n",
    "The data gathered:\n",
    "* Coordinates of where prostitution crimes are happening and which cluster they belong to based on different values of k (2 to 6) using [k-means clustering analysis](https://en.wikipedia.org/wiki/K-means_clustering)\n",
    "* Coordinates of cluster centers for different values of k (2 to 6)"
   ]
  },
  {
   "cell_type": "code",
   "execution_count": 1,
   "metadata": {
    "collapsed": true
   },
   "outputs": [],
   "source": [
    "import csv\n",
    "import numpy as np\n",
    "from sklearn.cluster import KMeans\n",
    "from collections import defaultdict\n",
    "import json"
   ]
  },
  {
   "cell_type": "code",
   "execution_count": 2,
   "metadata": {
    "collapsed": true
   },
   "outputs": [],
   "source": [
    "# Read-in San Francisco crime data from 1st of January 2003\n",
    "crimes = {}\n",
    "with open('SFPD_Incidents_-_from_1_January_2003.csv') as csvfile:\n",
    "    reader = csv.DictReader(csvfile, delimiter=\",\")\n",
    "    for entry in reader:\n",
    "        crimes[\n",
    "            entry[\"IncidntNum\"]\n",
    "        ] = {\n",
    "        \"category\":     entry[\"Category\"],\n",
    "        \"weekday\":      entry[\"DayOfWeek\"],\n",
    "        \"date\":         entry[\"Date\"],\n",
    "        \"time\":         entry[\"Time\"],\n",
    "        \"district\":     entry[\"PdDistrict\"],\n",
    "        \"latitude\":     entry[\"Y\"],\n",
    "        \"longitude\":    entry[\"X\"]\n",
    "        }"
   ]
  },
  {
   "cell_type": "code",
   "execution_count": 3,
   "metadata": {
    "collapsed": true
   },
   "outputs": [],
   "source": [
    "# Go through the dictionary 'crimes' and get 'latitudes' and 'longitudes' values from crime category 'PROSTITUTION'\n",
    "latitudes = []\n",
    "longitudes = []\n",
    "for key, value in crimes.iteritems():\n",
    "    # Remove latitude values located wrongly at the North Pole\n",
    "    if (float(crimes[key][\"latitude\"]) != 90) and (crimes[key][\"category\"] == \"PROSTITUTION\"):\n",
    "        latitudes.append(float(crimes[key][\"latitude\"]))\n",
    "        longitudes.append(float(crimes[key][\"longitude\"]))"
   ]
  },
  {
   "cell_type": "code",
   "execution_count": 4,
   "metadata": {
    "collapsed": false
   },
   "outputs": [],
   "source": [
    "# Create a list of lists for different labels for each k-means value from 2 to 6\n",
    "k_labels = []\n",
    "for k in range(2,7):\n",
    "    X = np.matrix(zip(latitudes, longitudes))\n",
    "    kmeans = KMeans(n_clusters=k).fit(X)\n",
    "    k_labels.append(kmeans.labels_.tolist())"
   ]
  },
  {
   "cell_type": "code",
   "execution_count": 5,
   "metadata": {
    "collapsed": false
   },
   "outputs": [
    {
     "name": "stdout",
     "output_type": "stream",
     "text": [
      "K2 labels (first 30 values):\n",
      "[0, 0, 1, 1, 0, 0, 1, 0, 1, 1, 0, 0, 0, 0, 0, 1, 0, 0, 1, 1, 0, 1, 1, 0, 0, 1, 1, 0, 0, 1]\n",
      "K6 labels (first 30 values):\n",
      "[4, 1, 2, 2, 5, 5, 2, 1, 2, 2, 5, 5, 1, 1, 1, 2, 5, 1, 2, 2, 1, 3, 2, 5, 1, 2, 2, 1, 1, 0]\n"
     ]
    }
   ],
   "source": [
    "# Example from 'k_labels'\n",
    "print \"K2 labels (first 30 values):\"\n",
    "print k_labels[0][0:30]\n",
    "print \"K6 labels (first 30 values):\"\n",
    "print k_labels[4][0:30]"
   ]
  },
  {
   "cell_type": "code",
   "execution_count": 6,
   "metadata": {
    "collapsed": true
   },
   "outputs": [],
   "source": [
    "# Write to a csv-file\n",
    "with open(\"./data_2B/k_means_lat_lon.csv\", \"wb\") as f:\n",
    "    writer = csv.writer(f)\n",
    "    writer.writerow((\"lat\", \"lon\", \"k2\", \"k3\", \"k4\", \"k5\", \"k6\"))\n",
    "    writer.writerows(zip(latitudes, longitudes, k_labels[0], k_labels[1], k_labels[2], k_labels[3], k_labels[4],))"
   ]
  },
  {
   "cell_type": "code",
   "execution_count": 7,
   "metadata": {
    "collapsed": false
   },
   "outputs": [],
   "source": [
    "# Create a dictionary of cluster centers for each k value from 2 to 6\n",
    "k_clusters = defaultdict(list)\n",
    "for k in range(2,7):\n",
    "    X = np.matrix(zip(latitudes, longitudes))\n",
    "    kmeans = KMeans(n_clusters=k).fit(X)\n",
    "    \n",
    "    for i in kmeans.cluster_centers_:\n",
    "        k_cluster = {}\n",
    "        k_cluster[\"lat\"] = i[0]\n",
    "        k_cluster[\"lon\"] = i[1]\n",
    "        k_clusters[\"k\" + str(k)].append(k_cluster)"
   ]
  },
  {
   "cell_type": "code",
   "execution_count": 8,
   "metadata": {
    "collapsed": false
   },
   "outputs": [
    {
     "name": "stdout",
     "output_type": "stream",
     "text": [
      "K2 cluster centers:\n",
      "[{'lat': 37.787458880666151, 'lon': -122.41754940681371}, {'lat': 37.760368403407782, 'lon': -122.41897422113254}]\n",
      "K6 cluster centers:\n",
      "[{'lat': 37.7876967416654, 'lon': -122.41874244761991}, {'lat': 37.719644409717937, 'lon': -122.46783363226149}, {'lat': 37.761851155060633, 'lon': -122.41599255678452}, {'lat': 37.785387358602087, 'lon': -122.40500501448241}, {'lat': 37.75921173107831, 'lon': -122.48755520466297}, {'lat': 37.729802416763178, 'lon': -122.40478562671251}]\n"
     ]
    }
   ],
   "source": [
    "# Example from 'k_clusters'\n",
    "print \"K2 cluster centers:\"\n",
    "print k_clusters[\"k2\"]\n",
    "print \"K6 cluster centers:\"\n",
    "print k_clusters[\"k6\"]"
   ]
  },
  {
   "cell_type": "code",
   "execution_count": 9,
   "metadata": {
    "collapsed": false
   },
   "outputs": [],
   "source": [
    "# Write to a json-file\n",
    "with open('./data_2B/k_means_cluster_centers.json', 'w') as f:\n",
    "    json.dump(k_clusters, f)"
   ]
  }
 ],
 "metadata": {
  "anaconda-cloud": {},
  "kernelspec": {
   "display_name": "Python [Root]",
   "language": "python",
   "name": "Python [Root]"
  },
  "language_info": {
   "codemirror_mode": {
    "name": "ipython",
    "version": 2
   },
   "file_extension": ".py",
   "mimetype": "text/x-python",
   "name": "python",
   "nbconvert_exporter": "python",
   "pygments_lexer": "ipython2",
   "version": "2.7.12"
  }
 },
 "nbformat": 4,
 "nbformat_minor": 0
}
